{
 "cells": [
  {
   "cell_type": "markdown",
   "id": "143ff975-bcab-4d52-a556-6250af2df1d9",
   "metadata": {},
   "source": [
    "# Statistics 301 Final Report: DoorDash Dataset"
   ]
  },
  {
   "cell_type": "markdown",
   "id": "220dfff2-a190-45da-8afd-0e18f87f7a5d",
   "metadata": {},
   "source": [
    "## Introduction"
   ]
  },
  {
   "cell_type": "markdown",
   "id": "137e2907-6f37-4d8c-9eef-2a598493061b",
   "metadata": {},
   "source": [
    "## Methods and Results"
   ]
  },
  {
   "cell_type": "markdown",
   "id": "a6d1bf44-6f35-4998-9b87-dd6494a9ef75",
   "metadata": {},
   "source": [
    "### Exploratory Data Analysis"
   ]
  },
  {
   "cell_type": "markdown",
   "id": "e9874c59-1940-4655-9f16-53f20c8ecbc6",
   "metadata": {},
   "source": [
    "### Methods: Plan"
   ]
  },
  {
   "cell_type": "markdown",
   "id": "978e67d5-3fae-41db-a4a3-8873676eacf2",
   "metadata": {},
   "source": [
    "## Discussion"
   ]
  },
  {
   "cell_type": "markdown",
   "id": "02e85277-6d85-4820-8336-42bcd1eaa2bf",
   "metadata": {},
   "source": [
    "## References"
   ]
  }
 ],
 "metadata": {
  "kernelspec": {
   "display_name": "R",
   "language": "R",
   "name": "ir"
  },
  "language_info": {
   "codemirror_mode": "r",
   "file_extension": ".r",
   "mimetype": "text/x-r-source",
   "name": "R",
   "pygments_lexer": "r",
   "version": "4.3.3"
  }
 },
 "nbformat": 4,
 "nbformat_minor": 5
}
