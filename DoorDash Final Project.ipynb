{
 "cells": [
  {
   "cell_type": "markdown",
   "id": "143ff975-bcab-4d52-a556-6250af2df1d9",
   "metadata": {},
   "source": [
    "# Statistics 301 Case Study Project: DoorDash Dataset\n",
    "Report by Soham Chakote, Raina Compton, Alex Pan Wang, Jensen Suhenda\n",
    "\n",
    "STAT 301: Statistical Modeling for Data Science\n",
    "\n",
    "April 12, 2023"
   ]
  },
  {
   "cell_type": "markdown",
   "id": "220dfff2-a190-45da-8afd-0e18f87f7a5d",
   "metadata": {},
   "source": [
    "## Introduction (Raina)"
   ]
  },
  {
   "cell_type": "markdown",
   "id": "137e2907-6f37-4d8c-9eef-2a598493061b",
   "metadata": {},
   "source": [
    "## Methods and Results"
   ]
  },
  {
   "cell_type": "code",
   "execution_count": 10,
   "id": "ac08a6d4-8118-4483-a989-37ba2732dd17",
   "metadata": {},
   "outputs": [],
   "source": [
    "# Library imports\n",
    "library(tidyverse)\n",
    "library(repr)\n",
    "library(tidymodels)\n",
    "library(infer)"
   ]
  },
  {
   "cell_type": "markdown",
   "id": "c9692184-f4a4-4819-80a7-39284eaa1a45",
   "metadata": {},
   "source": [
    "### Data (Raina)"
   ]
  },
  {
   "cell_type": "code",
   "execution_count": 11,
   "id": "0f3560f3-9ac4-45be-826e-91c4cdde448c",
   "metadata": {},
   "outputs": [
    {
     "name": "stderr",
     "output_type": "stream",
     "text": [
      "\u001b[1mRows: \u001b[22m\u001b[34m3298\u001b[39m \u001b[1mColumns: \u001b[22m\u001b[34m7\u001b[39m\n",
      "\u001b[36m──\u001b[39m \u001b[1mColumn specification\u001b[22m \u001b[36m────────────────────────────────────────────────────────\u001b[39m\n",
      "\u001b[1mDelimiter:\u001b[22m \",\"\n",
      "\u001b[31mchr\u001b[39m (4): restaurant, url, city, price_range\n",
      "\u001b[32mdbl\u001b[39m (3): star, num_reviews, distance_in_meters\n",
      "\n",
      "\u001b[36mℹ\u001b[39m Use `spec()` to retrieve the full column specification for this data.\n",
      "\u001b[36mℹ\u001b[39m Specify the column types or set `show_col_types = FALSE` to quiet this message.\n"
     ]
    },
    {
     "data": {
      "text/html": [
       "<table class=\"dataframe\">\n",
       "<caption>A tibble: 6 × 7</caption>\n",
       "<thead>\n",
       "\t<tr><th scope=col>restaurant</th><th scope=col>url</th><th scope=col>star</th><th scope=col>num_reviews</th><th scope=col>city</th><th scope=col>distance_in_meters</th><th scope=col>price_range</th></tr>\n",
       "\t<tr><th scope=col>&lt;chr&gt;</th><th scope=col>&lt;chr&gt;</th><th scope=col>&lt;dbl&gt;</th><th scope=col>&lt;dbl&gt;</th><th scope=col>&lt;chr&gt;</th><th scope=col>&lt;dbl&gt;</th><th scope=col>&lt;chr&gt;</th></tr>\n",
       "</thead>\n",
       "<tbody>\n",
       "\t<tr><td>Sector 17               </td><td>https://www.doordash.com/store/884779/?pickup=false </td><td>4.0</td><td>640</td><td>Brampton</td><td>1448.406</td><td>$$</td></tr>\n",
       "\t<tr><td>Golden Palace Restaurant</td><td>https://www.doordash.com/store/332454/?pickup=false </td><td>4.0</td><td>301</td><td>Brampton</td><td>3218.680</td><td>$$</td></tr>\n",
       "\t<tr><td>McDonald's              </td><td>https://www.doordash.com/store/1140537/?pickup=false</td><td>4.2</td><td>890</td><td>Brampton</td><td>1609.340</td><td>$$</td></tr>\n",
       "\t<tr><td>San Francisco Place     </td><td>https://www.doordash.com/store/205349/?pickup=false </td><td>4.4</td><td>109</td><td>Brampton</td><td> 643.736</td><td>$ </td></tr>\n",
       "\t<tr><td>THE BURGER BROS         </td><td>https://www.doordash.com/store/940617/?pickup=false </td><td>4.5</td><td>481</td><td>Brampton</td><td> 152.400</td><td>$$</td></tr>\n",
       "\t<tr><td>Lazeez Shawarma         </td><td>https://www.doordash.com/store/567102/?pickup=false </td><td>3.7</td><td>730</td><td>Brampton</td><td>1448.406</td><td>$$</td></tr>\n",
       "</tbody>\n",
       "</table>\n"
      ],
      "text/latex": [
       "A tibble: 6 × 7\n",
       "\\begin{tabular}{lllllll}\n",
       " restaurant & url & star & num\\_reviews & city & distance\\_in\\_meters & price\\_range\\\\\n",
       " <chr> & <chr> & <dbl> & <dbl> & <chr> & <dbl> & <chr>\\\\\n",
       "\\hline\n",
       "\t Sector 17                & https://www.doordash.com/store/884779/?pickup=false  & 4.0 & 640 & Brampton & 1448.406 & \\$\\$\\\\\n",
       "\t Golden Palace Restaurant & https://www.doordash.com/store/332454/?pickup=false  & 4.0 & 301 & Brampton & 3218.680 & \\$\\$\\\\\n",
       "\t McDonald's               & https://www.doordash.com/store/1140537/?pickup=false & 4.2 & 890 & Brampton & 1609.340 & \\$\\$\\\\\n",
       "\t San Francisco Place      & https://www.doordash.com/store/205349/?pickup=false  & 4.4 & 109 & Brampton &  643.736 & \\$ \\\\\n",
       "\t THE BURGER BROS          & https://www.doordash.com/store/940617/?pickup=false  & 4.5 & 481 & Brampton &  152.400 & \\$\\$\\\\\n",
       "\t Lazeez Shawarma          & https://www.doordash.com/store/567102/?pickup=false  & 3.7 & 730 & Brampton & 1448.406 & \\$\\$\\\\\n",
       "\\end{tabular}\n"
      ],
      "text/markdown": [
       "\n",
       "A tibble: 6 × 7\n",
       "\n",
       "| restaurant &lt;chr&gt; | url &lt;chr&gt; | star &lt;dbl&gt; | num_reviews &lt;dbl&gt; | city &lt;chr&gt; | distance_in_meters &lt;dbl&gt; | price_range &lt;chr&gt; |\n",
       "|---|---|---|---|---|---|---|\n",
       "| Sector 17                | https://www.doordash.com/store/884779/?pickup=false  | 4.0 | 640 | Brampton | 1448.406 | $$ |\n",
       "| Golden Palace Restaurant | https://www.doordash.com/store/332454/?pickup=false  | 4.0 | 301 | Brampton | 3218.680 | $$ |\n",
       "| McDonald's               | https://www.doordash.com/store/1140537/?pickup=false | 4.2 | 890 | Brampton | 1609.340 | $$ |\n",
       "| San Francisco Place      | https://www.doordash.com/store/205349/?pickup=false  | 4.4 | 109 | Brampton |  643.736 | $  |\n",
       "| THE BURGER BROS          | https://www.doordash.com/store/940617/?pickup=false  | 4.5 | 481 | Brampton |  152.400 | $$ |\n",
       "| Lazeez Shawarma          | https://www.doordash.com/store/567102/?pickup=false  | 3.7 | 730 | Brampton | 1448.406 | $$ |\n",
       "\n"
      ],
      "text/plain": [
       "  restaurant               url                                                 \n",
       "1 Sector 17                https://www.doordash.com/store/884779/?pickup=false \n",
       "2 Golden Palace Restaurant https://www.doordash.com/store/332454/?pickup=false \n",
       "3 McDonald's               https://www.doordash.com/store/1140537/?pickup=false\n",
       "4 San Francisco Place      https://www.doordash.com/store/205349/?pickup=false \n",
       "5 THE BURGER BROS          https://www.doordash.com/store/940617/?pickup=false \n",
       "6 Lazeez Shawarma          https://www.doordash.com/store/567102/?pickup=false \n",
       "  star num_reviews city     distance_in_meters price_range\n",
       "1 4.0  640         Brampton 1448.406           $$         \n",
       "2 4.0  301         Brampton 3218.680           $$         \n",
       "3 4.2  890         Brampton 1609.340           $$         \n",
       "4 4.4  109         Brampton  643.736           $          \n",
       "5 4.5  481         Brampton  152.400           $$         \n",
       "6 3.7  730         Brampton 1448.406           $$         "
      ]
     },
     "metadata": {},
     "output_type": "display_data"
    }
   ],
   "source": [
    "# Read the data from Github\n",
    "door_dash <- read_csv(\"https://raw.githubusercontent.com/SohamChakote/STAT-301-Project/refs/heads/main/doordash.csv\")\n",
    "head(door_dash)"
   ]
  },
  {
   "cell_type": "markdown",
   "id": "105dc001-fa1d-4755-bdfa-cc9755c52efb",
   "metadata": {},
   "source": [
    "#### Data Description\n",
    "\n",
    "The DoorDash data set is an observational data set consiting of a compilation of eight data sets, each showing restaurants within under 30 minutes delivery time to iconic downtown addresses in eight different populous cities in Canada. The locations are Rogers Center, The Montreal Museum of Fine Arts, Calgary Tower, Rogers Place, Parliment Hill, Winnipeg Millennium Library, Vancouver Public Library, and Downtown Brampton BIA for Toronto, Montreal, Calgary, Edmonton, Ottawa, Winnipeg, Vancouver, and Brampton respectively. \n",
    "\n",
    "The original data was collected from the DoorDash website with Selenium. The eight data sets were compiled and cleaned by Soham Chakote from Kaggle user Satoshi_S' data set: https://www.kaggle.com/code/satoshiss/clean-restaurant-raw-data. \n",
    "\n",
    "The nine variables of data set are as follows:\n",
    "* `restaurant`: the name of the restaurant\n",
    "* `url`: the DoorDash url for the restaurant\n",
    "*   `star`: the star rating (out of 5) for the restaurant at the time of data collection\n",
    "* `num_reviews`: the number of reviews for the at the time of data collection\n",
    "* `city`: the city in Canada the restaurant is located in\n",
    "* `distance_in_meters`: the distance in meters from the restaurant to the respective notable downtown address in each city\n",
    "* `price_range`: the price range for the restaurant ranging from 1 to 4 (denoted by number of $)"
   ]
  },
  {
   "cell_type": "markdown",
   "id": "a242777c-e16e-4ced-be45-4909a8598ee4",
   "metadata": {},
   "source": [
    "#### Pre-Selection of Variables\n",
    "\n",
    "We will be dropping both the `restaurant` and `url` variables because both function similarly to an id variable and therefore will not contribute to our model."
   ]
  },
  {
   "cell_type": "markdown",
   "id": "a6d1bf44-6f35-4998-9b87-dd6494a9ef75",
   "metadata": {},
   "source": [
    "### Exploratory Data Analysis"
   ]
  },
  {
   "cell_type": "markdown",
   "id": "e9874c59-1940-4655-9f16-53f20c8ecbc6",
   "metadata": {},
   "source": [
    "### Methods: Plan"
   ]
  },
  {
   "cell_type": "markdown",
   "id": "978e67d5-3fae-41db-a4a3-8873676eacf2",
   "metadata": {},
   "source": [
    "## Discussion"
   ]
  },
  {
   "cell_type": "markdown",
   "id": "02e85277-6d85-4820-8336-42bcd1eaa2bf",
   "metadata": {},
   "source": [
    "## References"
   ]
  },
  {
   "cell_type": "markdown",
   "id": "224b8c03-5eac-4834-8d9a-6d53f63b9ae3",
   "metadata": {},
   "source": [
    "Satoshi_S. (2022). Food Delivery across Canada (Door Dash) (version 6) [Data set]. Kaggle. https://www.kaggle.com/datasets/satoshiss/food-delivery-in-canada-door-dash?select=doordash_Brampton_2022-06-02.csv."
   ]
  },
  {
   "cell_type": "code",
   "execution_count": null,
   "id": "472b8f9c-4422-4fc5-8f38-154d468a2df4",
   "metadata": {},
   "outputs": [],
   "source": []
  }
 ],
 "metadata": {
  "kernelspec": {
   "display_name": "R",
   "language": "R",
   "name": "ir"
  },
  "language_info": {
   "codemirror_mode": "r",
   "file_extension": ".r",
   "mimetype": "text/x-r-source",
   "name": "R",
   "pygments_lexer": "r",
   "version": "4.3.3"
  }
 },
 "nbformat": 4,
 "nbformat_minor": 5
}
